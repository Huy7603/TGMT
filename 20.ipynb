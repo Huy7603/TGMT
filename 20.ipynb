{
 "cells": [
  {
   "cell_type": "code",
   "execution_count": 1,
   "id": "5b224ef7-9b81-454d-ac2f-4162b2c0d11f",
   "metadata": {},
   "outputs": [],
   "source": [
    "import cv2\n",
    "import numpy as np"
   ]
  },
  {
   "cell_type": "code",
   "execution_count": 2,
   "id": "9114e80c-85de-4be8-a85f-5e8a02d7a1e8",
   "metadata": {},
   "outputs": [],
   "source": [
    "def display(title, img):\n",
    "    cv2.imshow(title, img)\n",
    "    # Chờ một khoảng thời gian\n",
    "    cv2.waitKey(0)\n",
    "    # Đóng window\n",
    "    cv2.destroyWindow(title)"
   ]
  },
  {
   "cell_type": "code",
   "execution_count": 13,
   "id": "a152b37d-0611-427a-b38c-01d6d90bab35",
   "metadata": {},
   "outputs": [],
   "source": [
    "# Tạo một ảnh\n",
    "img =  np.zeros((400, 400, 3), dtype=np.uint8)\n",
    "display('Photo', img)"
   ]
  },
  {
   "cell_type": "code",
   "execution_count": 26,
   "id": "0fe77370-dc76-4117-9fe5-4260b7f49e3b",
   "metadata": {},
   "outputs": [],
   "source": [
    "# Vẽ đường thẳng\n",
    "cv2.line(img, (50, 50) , (350, 50), (0,255,0), 2)\n",
    "display('Photo', img)"
   ]
  },
  {
   "cell_type": "code",
   "execution_count": 25,
   "id": "7d7fc044-93b4-47a4-8bb9-1e222b8854be",
   "metadata": {},
   "outputs": [],
   "source": [
    "# Vẽ hình tròn\n",
    "cv2.circle(img, (100,100), 50, (255, 0, 0), -1)\n",
    "display('Photo', img)"
   ]
  },
  {
   "cell_type": "code",
   "execution_count": 23,
   "id": "b3e21e0a-6213-46b3-b8bd-2eb6db2165fe",
   "metadata": {},
   "outputs": [],
   "source": [
    "# Vẽ hình chữ nhật\n",
    "cv2.rectangle(img, (100,100),(300,300), (0, 0, 255), -1)\n",
    "display('Photo', img)"
   ]
  },
  {
   "cell_type": "code",
   "execution_count": 35,
   "id": "b81c817d-eda7-480c-b317-1feed5fa188c",
   "metadata": {},
   "outputs": [],
   "source": [
    "# Ghi text trên hình ảnh\n",
    "content = 'Pham Nguyen Hai Huy'\n",
    "font = cv2.FONT_HERSHEY_SIMPLEX\n",
    "cv2.putText(img, content, (10,380), font, 0.6, (255,255,100), 2 )\n",
    "display('Photo', img)"
   ]
  },
  {
   "cell_type": "code",
   "execution_count": null,
   "id": "4e0c3ff0-a8de-49de-82a5-f0dc52ac266b",
   "metadata": {},
   "outputs": [],
   "source": []
  }
 ],
 "metadata": {
  "kernelspec": {
   "display_name": "Python 3 (ipykernel)",
   "language": "python",
   "name": "python3"
  },
  "language_info": {
   "codemirror_mode": {
    "name": "ipython",
    "version": 3
   },
   "file_extension": ".py",
   "mimetype": "text/x-python",
   "name": "python",
   "nbconvert_exporter": "python",
   "pygments_lexer": "ipython3",
   "version": "3.12.4"
  }
 },
 "nbformat": 4,
 "nbformat_minor": 5
}
