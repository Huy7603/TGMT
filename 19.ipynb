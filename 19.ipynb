{
 "cells": [
  {
   "cell_type": "code",
   "execution_count": 6,
   "id": "44bba68b-a8de-4fb9-add8-ba6dbafffedc",
   "metadata": {},
   "outputs": [],
   "source": [
    "# Cài đặt opencv-python\n",
    "#!pip install opencv-python"
   ]
  },
  {
   "cell_type": "code",
   "execution_count": 33,
   "id": "a32d21c1-8d61-4284-a6d8-da00849fb4d9",
   "metadata": {},
   "outputs": [],
   "source": [
    "def display(title, img):\n",
    "    cv2.imshow(title, img)\n",
    "    # Chờ một khoảng thời gian\n",
    "    cv2.waitKey(0)\n",
    "    # Đóng window\n",
    "    cv2.destroyWindow(title)"
   ]
  },
  {
   "cell_type": "code",
   "execution_count": 34,
   "id": "fdc2a990-9518-4e4e-ada0-758d6a3c35da",
   "metadata": {},
   "outputs": [],
   "source": [
    "# Import thư viện\n",
    "import cv2"
   ]
  },
  {
   "cell_type": "code",
   "execution_count": 43,
   "id": "b8e74c2d-66f6-4082-8ebb-c5bbae63baa4",
   "metadata": {},
   "outputs": [
    {
     "name": "stdout",
     "output_type": "stream",
     "text": [
      "[[[ 2  2  8]\n",
      "  [ 2  2  8]\n",
      "  [ 2  2  8]\n",
      "  ...\n",
      "  [ 9  8 17]\n",
      "  [ 9  8 17]\n",
      "  [10  9 18]]\n",
      "\n",
      " [[ 2  2  8]\n",
      "  [ 2  2  8]\n",
      "  [ 2  2  8]\n",
      "  ...\n",
      "  [ 9  8 17]\n",
      "  [ 9  8 17]\n",
      "  [10  9 18]]\n",
      "\n",
      " [[ 2  2  8]\n",
      "  [ 2  2  8]\n",
      "  [ 2  2  8]\n",
      "  ...\n",
      "  [ 9  8 17]\n",
      "  [ 9  8 17]\n",
      "  [10  9 18]]\n",
      "\n",
      " ...\n",
      "\n",
      " [[ 6  6 12]\n",
      "  [ 6  6 12]\n",
      "  [ 6  6 12]\n",
      "  ...\n",
      "  [ 9  9 15]\n",
      "  [ 9  9 15]\n",
      "  [10 10 16]]\n",
      "\n",
      " [[ 6  6 12]\n",
      "  [ 6  6 12]\n",
      "  [ 6  6 12]\n",
      "  ...\n",
      "  [ 9  9 15]\n",
      "  [ 9  9 15]\n",
      "  [10 10 16]]\n",
      "\n",
      " [[ 6  6 12]\n",
      "  [ 6  6 12]\n",
      "  [ 6  6 12]\n",
      "  ...\n",
      "  [ 9  9 15]\n",
      "  [ 9  9 15]\n",
      "  [10 10 16]]]\n"
     ]
    }
   ],
   "source": [
    "# Đọc một ảnh (nhan TAB de nhin autocomplete)\n",
    "path= '3.jpg'\n",
    "img = cv2.imread(path)\n",
    "# In thông tin của ảnh\n",
    "print(img)"
   ]
  },
  {
   "cell_type": "code",
   "execution_count": 44,
   "id": "2540f943-b873-437b-9ab4-d58cbaca7780",
   "metadata": {},
   "outputs": [
    {
     "name": "stdout",
     "output_type": "stream",
     "text": [
      "(151, 334, 3)\n",
      "151\n",
      "334\n",
      "3\n"
     ]
    }
   ],
   "source": [
    "# Lấy kích thước\n",
    "print(img.shape)\n",
    "x, y, z = img.shape\n",
    "print(x)\n",
    "print(y)\n",
    "print(z)"
   ]
  },
  {
   "cell_type": "code",
   "execution_count": 45,
   "id": "6d9374d8-c96c-48a8-b2ac-9a502b6a6acd",
   "metadata": {},
   "outputs": [],
   "source": [
    "# Hiển thị ảnh\n",
    "cv2.imshow('Ngo Khong', img)\n",
    "# Chờ một khoảng thời gian\n",
    "cv2.waitKey(10000)\n",
    "# Đóng window\n",
    "cv2.destroyWindow('Ngo Khong')"
   ]
  },
  {
   "cell_type": "code",
   "execution_count": 46,
   "id": "414f80a8-410d-4c12-a361-67ee298076f2",
   "metadata": {},
   "outputs": [],
   "source": [
    "# Tách màu\n",
    "b, g, r = cv2.split(img)\n",
    "cv2.imshow('Ngo Khong', img)\n",
    "cv2.imshow('Red', r)\n",
    "cv2.imshow('Green', g)\n",
    "cv2.imshow('Blue', b)\n",
    "\n",
    "# Chờ một khoảng thời gian\n",
    "cv2.waitKey(0)\n",
    "# Đóng window\n",
    "cv2.destroyAllWindows()"
   ]
  },
  {
   "cell_type": "code",
   "execution_count": 47,
   "id": "19af7632-4a2c-43c8-9a37-e2a7db06e772",
   "metadata": {},
   "outputs": [],
   "source": [
    "gray_img = cv2.cvtColor(img, cv2.COLOR_BGR2GRAY)\n",
    "img_2 = cv2.cvtColor(img, cv2.COLOR_BGR2RGB)\n",
    "cv2.imshow('Ngo Khong', img)\n",
    "cv2.imshow('gray_img', gray_img)\n",
    "cv2.imshow('img_2', img_2)\n",
    "# Chờ một khoảng thời gian\n",
    "cv2.waitKey(0)\n",
    "# Đóng window\n",
    "cv2.destroyAllWindows()"
   ]
  },
  {
   "cell_type": "code",
   "execution_count": 54,
   "id": "ecb6c258-9c26-45bd-8453-b85301abce57",
   "metadata": {},
   "outputs": [],
   "source": [
    "# Thay đổi thông số của điểm ảnh\n",
    "height, width, z = img.shape\n",
    "quater_h = height/2\n",
    "quater_w = width/2\n",
    "\n",
    "# geen color\n",
    "green_color = (0,255,0)\n",
    "\n",
    "# copy ảnh\n",
    "img2 = img.copy()\n",
    "\n",
    "# thay đổi màu của góc 1/4 bên trái trên\n",
    "\n",
    "for y in range(int(quater_h)):\n",
    "    for x in range(int(quater_w)):\n",
    "        img2[y, x] = green_color\n",
    "# Hiển thị\n",
    "display('Ngo Khong', img)\n",
    "display('Wukong', img2)"
   ]
  },
  {
   "cell_type": "code",
   "execution_count": null,
   "id": "8bd5cd9e-3167-42ef-bf9c-f4a5e6242dd8",
   "metadata": {},
   "outputs": [],
   "source": []
  }
 ],
 "metadata": {
  "kernelspec": {
   "display_name": "Python 3 (ipykernel)",
   "language": "python",
   "name": "python3"
  },
  "language_info": {
   "codemirror_mode": {
    "name": "ipython",
    "version": 3
   },
   "file_extension": ".py",
   "mimetype": "text/x-python",
   "name": "python",
   "nbconvert_exporter": "python",
   "pygments_lexer": "ipython3",
   "version": "3.12.4"
  }
 },
 "nbformat": 4,
 "nbformat_minor": 5
}
